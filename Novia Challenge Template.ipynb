{
 "cells": [
  {
   "cell_type": "code",
   "execution_count": 115,
   "metadata": {},
   "outputs": [],
   "source": [
    "import pandas as pd\n",
    "# Feel free to add any imports you need\n",
    "import re\n",
    "import matplotlib.pyplot as plt\n",
    "import seaborn as sns\n",
    "import numpy as np\n",
    "from sklearn.metrics import accuracy_score"
   ]
  },
  {
   "cell_type": "code",
   "execution_count": 116,
   "metadata": {},
   "outputs": [],
   "source": [
    "candidate_scores = pd.read_csv('data/candidate_scores.csv')\n",
    "hr_scores = pd.read_csv('data/hr_scores.csv')"
   ]
  },
  {
   "cell_type": "markdown",
   "metadata": {},
   "source": [
    "# Section 1"
   ]
  },
  {
   "cell_type": "markdown",
   "metadata": {},
   "source": [
    "## merge the datasets"
   ]
  },
  {
   "cell_type": "markdown",
   "metadata": {},
   "source": [
    "First, I'll check if there are rows with no names in the name column in 'candidate_scores' and 'hr_scores':"
   ]
  },
  {
   "cell_type": "code",
   "execution_count": 117,
   "metadata": {},
   "outputs": [
    {
     "name": "stdout",
     "output_type": "stream",
     "text": [
      "Missing candidate names in candidate_scores: True\n",
      "Missing candidate names in hr_scores: False\n"
     ]
    }
   ],
   "source": [
    "# Check for rows with missing candidate names\n",
    "missing_candidate_names_in_scores = candidate_scores['candidateName'].isna().any()\n",
    "missing_candidate_names_in_hr = hr_scores['candidateName'].isna().any()\n",
    "\n",
    "print(f\"Missing candidate names in candidate_scores: {missing_candidate_names_in_scores}\")\n",
    "print(f\"Missing candidate names in hr_scores: {missing_candidate_names_in_hr}\")"
   ]
  },
  {
   "cell_type": "markdown",
   "metadata": {},
   "source": [
    "Let's take a look at the data:"
   ]
  },
  {
   "cell_type": "code",
   "execution_count": 118,
   "metadata": {},
   "outputs": [
    {
     "data": {
      "text/html": [
       "<div>\n",
       "<style scoped>\n",
       "    .dataframe tbody tr th:only-of-type {\n",
       "        vertical-align: middle;\n",
       "    }\n",
       "\n",
       "    .dataframe tbody tr th {\n",
       "        vertical-align: top;\n",
       "    }\n",
       "\n",
       "    .dataframe thead th {\n",
       "        text-align: right;\n",
       "    }\n",
       "</style>\n",
       "<table border=\"1\" class=\"dataframe\">\n",
       "  <thead>\n",
       "    <tr style=\"text-align: right;\">\n",
       "      <th></th>\n",
       "      <th>id</th>\n",
       "      <th>createdAt</th>\n",
       "      <th>updatedAt</th>\n",
       "      <th>candidateName</th>\n",
       "      <th>overallScore</th>\n",
       "      <th>dataSources</th>\n",
       "      <th>status</th>\n",
       "      <th>professionalScore</th>\n",
       "      <th>culturalScore</th>\n",
       "      <th>teamScore</th>\n",
       "      <th>punchline</th>\n",
       "      <th>contextID</th>\n",
       "    </tr>\n",
       "  </thead>\n",
       "  <tbody>\n",
       "    <tr>\n",
       "      <th>0</th>\n",
       "      <td>38</td>\n",
       "      <td>27:17.2</td>\n",
       "      <td>27:52.4</td>\n",
       "      <td>Zephyr Rift Stormwind</td>\n",
       "      <td>80.0</td>\n",
       "      <td>{Linkedin,CV}</td>\n",
       "      <td>Completed</td>\n",
       "      <td>79</td>\n",
       "      <td>74.0</td>\n",
       "      <td>75.0</td>\n",
       "      <td>Strong fit with minor industry-specific gap, v...</td>\n",
       "      <td>10</td>\n",
       "    </tr>\n",
       "    <tr>\n",
       "      <th>1</th>\n",
       "      <td>39</td>\n",
       "      <td>27:48.9</td>\n",
       "      <td>28:30.1</td>\n",
       "      <td>Luna Moonbeam</td>\n",
       "      <td>75.0</td>\n",
       "      <td>{Linkedin,CV}</td>\n",
       "      <td>Completed</td>\n",
       "      <td>82</td>\n",
       "      <td>62.0</td>\n",
       "      <td>60.0</td>\n",
       "      <td>Strong foundation, potential for growth in new...</td>\n",
       "      <td>10</td>\n",
       "    </tr>\n",
       "    <tr>\n",
       "      <th>2</th>\n",
       "      <td>35</td>\n",
       "      <td>25:30.7</td>\n",
       "      <td>26:11.9</td>\n",
       "      <td>Raven Nightshade ©±ð�©¨ð�©¥ð�©§ð�©¥ð�©¯ ð�©²ð�...</td>\n",
       "      <td>50.0</td>\n",
       "      <td>{Linkedin,CV}</td>\n",
       "      <td>Completed</td>\n",
       "      <td>45</td>\n",
       "      <td>38.0</td>\n",
       "      <td>37.5</td>\n",
       "      <td>Promising candidate with potential, needs indu...</td>\n",
       "      <td>10</td>\n",
       "    </tr>\n",
       "    <tr>\n",
       "      <th>3</th>\n",
       "      <td>36</td>\n",
       "      <td>26:17.4</td>\n",
       "      <td>27:00.1</td>\n",
       "      <td>Phoenix Ashfire</td>\n",
       "      <td>70.0</td>\n",
       "      <td>{Linkedin,CV}</td>\n",
       "      <td>Completed</td>\n",
       "      <td>84</td>\n",
       "      <td>74.0</td>\n",
       "      <td>75.0</td>\n",
       "      <td>Potential fit with room for growth in industry...</td>\n",
       "      <td>10</td>\n",
       "    </tr>\n",
       "    <tr>\n",
       "      <th>4</th>\n",
       "      <td>37</td>\n",
       "      <td>26:51.1</td>\n",
       "      <td>27:28.1</td>\n",
       "      <td>Echo Whisperwind  ðŸ‡®ðŸ‡±</td>\n",
       "      <td>70.0</td>\n",
       "      <td>{Linkedin,CV}</td>\n",
       "      <td>Completed</td>\n",
       "      <td>81</td>\n",
       "      <td>64.0</td>\n",
       "      <td>65.0</td>\n",
       "      <td>Skilled product manager with potential to adap...</td>\n",
       "      <td>10</td>\n",
       "    </tr>\n",
       "  </tbody>\n",
       "</table>\n",
       "</div>"
      ],
      "text/plain": [
       "   id createdAt updatedAt                                      candidateName  \\\n",
       "0  38   27:17.2   27:52.4                              Zephyr Rift Stormwind   \n",
       "1  39   27:48.9   28:30.1                                      Luna Moonbeam   \n",
       "2  35   25:30.7   26:11.9  Raven Nightshade ©±ð�©¨ð�©¥ð�©§ð�©¥ð�©¯ ð�©²ð�...   \n",
       "3  36   26:17.4   27:00.1                                    Phoenix Ashfire   \n",
       "4  37   26:51.1   27:28.1                         Echo Whisperwind  ðŸ‡®ðŸ‡±   \n",
       "\n",
       "   overallScore    dataSources     status  professionalScore  culturalScore  \\\n",
       "0          80.0  {Linkedin,CV}  Completed                 79           74.0   \n",
       "1          75.0  {Linkedin,CV}  Completed                 82           62.0   \n",
       "2          50.0  {Linkedin,CV}  Completed                 45           38.0   \n",
       "3          70.0  {Linkedin,CV}  Completed                 84           74.0   \n",
       "4          70.0  {Linkedin,CV}  Completed                 81           64.0   \n",
       "\n",
       "   teamScore                                          punchline  contextID  \n",
       "0       75.0  Strong fit with minor industry-specific gap, v...         10  \n",
       "1       60.0  Strong foundation, potential for growth in new...         10  \n",
       "2       37.5  Promising candidate with potential, needs indu...         10  \n",
       "3       75.0  Potential fit with room for growth in industry...         10  \n",
       "4       65.0  Skilled product manager with potential to adap...         10  "
      ]
     },
     "execution_count": 118,
     "metadata": {},
     "output_type": "execute_result"
    }
   ],
   "source": [
    "candidate_scores.head()"
   ]
  },
  {
   "cell_type": "code",
   "execution_count": 119,
   "metadata": {},
   "outputs": [
    {
     "data": {
      "text/html": [
       "<div>\n",
       "<style scoped>\n",
       "    .dataframe tbody tr th:only-of-type {\n",
       "        vertical-align: middle;\n",
       "    }\n",
       "\n",
       "    .dataframe tbody tr th {\n",
       "        vertical-align: top;\n",
       "    }\n",
       "\n",
       "    .dataframe thead th {\n",
       "        text-align: right;\n",
       "    }\n",
       "</style>\n",
       "<table border=\"1\" class=\"dataframe\">\n",
       "  <thead>\n",
       "    <tr style=\"text-align: right;\">\n",
       "      <th></th>\n",
       "      <th>candidateName</th>\n",
       "      <th>hrScore</th>\n",
       "    </tr>\n",
       "  </thead>\n",
       "  <tbody>\n",
       "    <tr>\n",
       "      <th>0</th>\n",
       "      <td>Zephyr Rift Stormwind</td>\n",
       "      <td>2</td>\n",
       "    </tr>\n",
       "    <tr>\n",
       "      <th>1</th>\n",
       "      <td>Luna Moonbeam</td>\n",
       "      <td>2</td>\n",
       "    </tr>\n",
       "    <tr>\n",
       "      <th>2</th>\n",
       "      <td>Raven Nightshade'</td>\n",
       "      <td>4</td>\n",
       "    </tr>\n",
       "    <tr>\n",
       "      <th>3</th>\n",
       "      <td>Phoenix Ashfire</td>\n",
       "      <td>2</td>\n",
       "    </tr>\n",
       "    <tr>\n",
       "      <th>4</th>\n",
       "      <td>Echo Whisperwind</td>\n",
       "      <td>3</td>\n",
       "    </tr>\n",
       "  </tbody>\n",
       "</table>\n",
       "</div>"
      ],
      "text/plain": [
       "           candidateName  hrScore\n",
       "0  Zephyr Rift Stormwind        2\n",
       "1          Luna Moonbeam        2\n",
       "2      Raven Nightshade'        4\n",
       "3        Phoenix Ashfire        2\n",
       "4       Echo Whisperwind        3"
      ]
     },
     "execution_count": 119,
     "metadata": {},
     "output_type": "execute_result"
    }
   ],
   "source": [
    "hr_scores.head()"
   ]
  },
  {
   "cell_type": "code",
   "execution_count": 120,
   "metadata": {},
   "outputs": [
    {
     "name": "stdout",
     "output_type": "stream",
     "text": [
      "<class 'pandas.core.frame.DataFrame'>\n",
      "RangeIndex: 79 entries, 0 to 78\n",
      "Data columns (total 12 columns):\n",
      " #   Column             Non-Null Count  Dtype  \n",
      "---  ------             --------------  -----  \n",
      " 0   id                 79 non-null     int64  \n",
      " 1   createdAt          79 non-null     object \n",
      " 2   updatedAt          79 non-null     object \n",
      " 3   candidateName      56 non-null     object \n",
      " 4   overallScore       56 non-null     float64\n",
      " 5   dataSources        79 non-null     object \n",
      " 6   status             79 non-null     object \n",
      " 7   professionalScore  79 non-null     int64  \n",
      " 8   culturalScore      79 non-null     float64\n",
      " 9   teamScore          79 non-null     float64\n",
      " 10  punchline          56 non-null     object \n",
      " 11  contextID          79 non-null     int64  \n",
      "dtypes: float64(3), int64(3), object(6)\n",
      "memory usage: 7.5+ KB\n"
     ]
    }
   ],
   "source": [
    "candidate_scores.info()"
   ]
  },
  {
   "cell_type": "code",
   "execution_count": 121,
   "metadata": {},
   "outputs": [
    {
     "name": "stdout",
     "output_type": "stream",
     "text": [
      "<class 'pandas.core.frame.DataFrame'>\n",
      "RangeIndex: 52 entries, 0 to 51\n",
      "Data columns (total 2 columns):\n",
      " #   Column         Non-Null Count  Dtype \n",
      "---  ------         --------------  ----- \n",
      " 0   candidateName  52 non-null     object\n",
      " 1   hrScore        52 non-null     int64 \n",
      "dtypes: int64(1), object(1)\n",
      "memory usage: 964.0+ bytes\n"
     ]
    }
   ],
   "source": [
    "hr_scores.info()"
   ]
  },
  {
   "cell_type": "markdown",
   "metadata": {},
   "source": [
    "We can see that there are names with symbols at the end. I would like to clean it. Also I would like to put NA where there is no name the the 'candidateName' column in 'candidate_scores'"
   ]
  },
  {
   "cell_type": "code",
   "execution_count": 122,
   "metadata": {},
   "outputs": [],
   "source": [
    "# Function to clean candidate names\n",
    "def clean_name(name):\n",
    "    if pd.isna(name):\n",
    "        return 'NA'\n",
    "    # Ensure the name is a string\n",
    "    name = str(name).strip()\n",
    "    # Replace empty names with 'NA'\n",
    "    if name == '':\n",
    "        return 'NA'\n",
    "    # Remove non-printable characters\n",
    "    name = re.sub(r'[^\\x00-\\x7F]+', '', name)\n",
    "    # Remove symbols at the end of the name\n",
    "    name = re.sub(r'\\W+$', '', name)\n",
    "    return name"
   ]
  },
  {
   "cell_type": "code",
   "execution_count": 123,
   "metadata": {},
   "outputs": [],
   "source": [
    "# Apply the cleaning function to candidate names\n",
    "candidate_scores['candidateName'] = candidate_scores['candidateName'].apply(clean_name)\n",
    "hr_scores['candidateName'] = hr_scores['candidateName'].apply(clean_name)"
   ]
  },
  {
   "cell_type": "markdown",
   "metadata": {},
   "source": [
    "Now let's check if there are still missing values in 'candidateName':"
   ]
  },
  {
   "cell_type": "code",
   "execution_count": 124,
   "metadata": {},
   "outputs": [
    {
     "name": "stdout",
     "output_type": "stream",
     "text": [
      "Missing candidate names in candidate_scores: False\n",
      "Missing candidate names in hr_scores: False\n"
     ]
    }
   ],
   "source": [
    "# Check for rows with missing candidate names\n",
    "missing_candidate_names_in_scores_new = candidate_scores['candidateName'].isna().any()\n",
    "missing_candidate_names_in_hr_new = hr_scores['candidateName'].isna().any()\n",
    "\n",
    "print(f\"Missing candidate names in candidate_scores: {missing_candidate_names_in_scores_new}\")\n",
    "print(f\"Missing candidate names in hr_scores: {missing_candidate_names_in_hr_new}\")"
   ]
  },
  {
   "cell_type": "markdown",
   "metadata": {},
   "source": [
    "Now I will merge the 2 datasets.<br>\n",
    "According to the info check I did, there are more candidates in 'candidate_scores'.<br>\n",
    "I will to an outer merge to get all the rows from 'candidate_scores'."
   ]
  },
  {
   "cell_type": "code",
   "execution_count": 125,
   "metadata": {},
   "outputs": [],
   "source": [
    "merged_data = pd.merge(candidate_scores, hr_scores, on='candidateName', how='outer', suffixes=('', '_hr'))"
   ]
  },
  {
   "cell_type": "code",
   "execution_count": 126,
   "metadata": {},
   "outputs": [],
   "source": [
    "# Create the final DataFrame with required columns\n",
    "combined_candidates = merged_data[['candidateName', 'overallScore', 'professionalScore', 'culturalScore', 'teamScore', 'hrScore']]"
   ]
  },
  {
   "cell_type": "code",
   "execution_count": 127,
   "metadata": {},
   "outputs": [
    {
     "name": "stdout",
     "output_type": "stream",
     "text": [
      "<class 'pandas.core.frame.DataFrame'>\n",
      "RangeIndex: 83 entries, 0 to 82\n",
      "Data columns (total 6 columns):\n",
      " #   Column             Non-Null Count  Dtype  \n",
      "---  ------             --------------  -----  \n",
      " 0   candidateName      83 non-null     object \n",
      " 1   overallScore       56 non-null     float64\n",
      " 2   professionalScore  79 non-null     float64\n",
      " 3   culturalScore      79 non-null     float64\n",
      " 4   teamScore          79 non-null     float64\n",
      " 5   hrScore            55 non-null     float64\n",
      "dtypes: float64(5), object(1)\n",
      "memory usage: 4.0+ KB\n"
     ]
    }
   ],
   "source": [
    "combined_candidates.info()"
   ]
  },
  {
   "cell_type": "code",
   "execution_count": 128,
   "metadata": {},
   "outputs": [],
   "source": [
    "combined_candidates.to_csv('data/combined_candidates.csv', index=False)"
   ]
  },
  {
   "cell_type": "markdown",
   "metadata": {},
   "source": [
    "## Explore and Visualize the data"
   ]
  },
  {
   "cell_type": "code",
   "execution_count": 129,
   "metadata": {},
   "outputs": [],
   "source": [
    "combined_candidates = pd.read_csv('data/combined_candidates.csv')"
   ]
  },
  {
   "cell_type": "markdown",
   "metadata": {},
   "source": [
    "First, Let's take a look at the first few rows and the basic statistics of the dataset:"
   ]
  },
  {
   "cell_type": "code",
   "execution_count": 130,
   "metadata": {},
   "outputs": [
    {
     "data": {
      "text/html": [
       "<div>\n",
       "<style scoped>\n",
       "    .dataframe tbody tr th:only-of-type {\n",
       "        vertical-align: middle;\n",
       "    }\n",
       "\n",
       "    .dataframe tbody tr th {\n",
       "        vertical-align: top;\n",
       "    }\n",
       "\n",
       "    .dataframe thead th {\n",
       "        text-align: right;\n",
       "    }\n",
       "</style>\n",
       "<table border=\"1\" class=\"dataframe\">\n",
       "  <thead>\n",
       "    <tr style=\"text-align: right;\">\n",
       "      <th></th>\n",
       "      <th>candidateName</th>\n",
       "      <th>overallScore</th>\n",
       "      <th>professionalScore</th>\n",
       "      <th>culturalScore</th>\n",
       "      <th>teamScore</th>\n",
       "      <th>hrScore</th>\n",
       "    </tr>\n",
       "  </thead>\n",
       "  <tbody>\n",
       "    <tr>\n",
       "      <th>0</th>\n",
       "      <td>Aether Voidwalker</td>\n",
       "      <td>50.0</td>\n",
       "      <td>49.0</td>\n",
       "      <td>38.0</td>\n",
       "      <td>40.0</td>\n",
       "      <td>4.0</td>\n",
       "    </tr>\n",
       "    <tr>\n",
       "      <th>1</th>\n",
       "      <td>Ash Phoenixborn</td>\n",
       "      <td>65.0</td>\n",
       "      <td>68.0</td>\n",
       "      <td>55.0</td>\n",
       "      <td>52.5</td>\n",
       "      <td>4.0</td>\n",
       "    </tr>\n",
       "    <tr>\n",
       "      <th>2</th>\n",
       "      <td>Aspen Leafdancer</td>\n",
       "      <td>60.0</td>\n",
       "      <td>71.0</td>\n",
       "      <td>47.0</td>\n",
       "      <td>42.5</td>\n",
       "      <td>4.0</td>\n",
       "    </tr>\n",
       "    <tr>\n",
       "      <th>3</th>\n",
       "      <td>Aura Spiritglow</td>\n",
       "      <td>70.0</td>\n",
       "      <td>78.0</td>\n",
       "      <td>68.0</td>\n",
       "      <td>67.5</td>\n",
       "      <td>1.0</td>\n",
       "    </tr>\n",
       "    <tr>\n",
       "      <th>4</th>\n",
       "      <td>Aurora Bloom Borealis</td>\n",
       "      <td>62.0</td>\n",
       "      <td>66.0</td>\n",
       "      <td>52.0</td>\n",
       "      <td>50.0</td>\n",
       "      <td>NaN</td>\n",
       "    </tr>\n",
       "  </tbody>\n",
       "</table>\n",
       "</div>"
      ],
      "text/plain": [
       "           candidateName  overallScore  professionalScore  culturalScore  \\\n",
       "0      Aether Voidwalker          50.0               49.0           38.0   \n",
       "1        Ash Phoenixborn          65.0               68.0           55.0   \n",
       "2       Aspen Leafdancer          60.0               71.0           47.0   \n",
       "3        Aura Spiritglow          70.0               78.0           68.0   \n",
       "4  Aurora Bloom Borealis          62.0               66.0           52.0   \n",
       "\n",
       "   teamScore  hrScore  \n",
       "0       40.0      4.0  \n",
       "1       52.5      4.0  \n",
       "2       42.5      4.0  \n",
       "3       67.5      1.0  \n",
       "4       50.0      NaN  "
      ]
     },
     "execution_count": 130,
     "metadata": {},
     "output_type": "execute_result"
    }
   ],
   "source": [
    "combined_candidates.head()"
   ]
  },
  {
   "cell_type": "code",
   "execution_count": 131,
   "metadata": {},
   "outputs": [
    {
     "data": {
      "text/html": [
       "<div>\n",
       "<style scoped>\n",
       "    .dataframe tbody tr th:only-of-type {\n",
       "        vertical-align: middle;\n",
       "    }\n",
       "\n",
       "    .dataframe tbody tr th {\n",
       "        vertical-align: top;\n",
       "    }\n",
       "\n",
       "    .dataframe thead th {\n",
       "        text-align: right;\n",
       "    }\n",
       "</style>\n",
       "<table border=\"1\" class=\"dataframe\">\n",
       "  <thead>\n",
       "    <tr style=\"text-align: right;\">\n",
       "      <th></th>\n",
       "      <th>overallScore</th>\n",
       "      <th>professionalScore</th>\n",
       "      <th>culturalScore</th>\n",
       "      <th>teamScore</th>\n",
       "      <th>hrScore</th>\n",
       "    </tr>\n",
       "  </thead>\n",
       "  <tbody>\n",
       "    <tr>\n",
       "      <th>count</th>\n",
       "      <td>56.000000</td>\n",
       "      <td>79.000000</td>\n",
       "      <td>79.000000</td>\n",
       "      <td>79.000000</td>\n",
       "      <td>55.000000</td>\n",
       "    </tr>\n",
       "    <tr>\n",
       "      <th>mean</th>\n",
       "      <td>68.410714</td>\n",
       "      <td>52.797468</td>\n",
       "      <td>44.116456</td>\n",
       "      <td>43.968354</td>\n",
       "      <td>3.200000</td>\n",
       "    </tr>\n",
       "    <tr>\n",
       "      <th>std</th>\n",
       "      <td>9.042881</td>\n",
       "      <td>35.157659</td>\n",
       "      <td>29.773153</td>\n",
       "      <td>29.771065</td>\n",
       "      <td>1.112222</td>\n",
       "    </tr>\n",
       "    <tr>\n",
       "      <th>min</th>\n",
       "      <td>45.000000</td>\n",
       "      <td>0.000000</td>\n",
       "      <td>0.000000</td>\n",
       "      <td>0.000000</td>\n",
       "      <td>1.000000</td>\n",
       "    </tr>\n",
       "    <tr>\n",
       "      <th>25%</th>\n",
       "      <td>65.000000</td>\n",
       "      <td>0.000000</td>\n",
       "      <td>0.000000</td>\n",
       "      <td>0.000000</td>\n",
       "      <td>2.000000</td>\n",
       "    </tr>\n",
       "    <tr>\n",
       "      <th>50%</th>\n",
       "      <td>70.000000</td>\n",
       "      <td>73.000000</td>\n",
       "      <td>58.200000</td>\n",
       "      <td>57.500000</td>\n",
       "      <td>4.000000</td>\n",
       "    </tr>\n",
       "    <tr>\n",
       "      <th>75%</th>\n",
       "      <td>75.000000</td>\n",
       "      <td>79.000000</td>\n",
       "      <td>67.500000</td>\n",
       "      <td>67.500000</td>\n",
       "      <td>4.000000</td>\n",
       "    </tr>\n",
       "    <tr>\n",
       "      <th>max</th>\n",
       "      <td>80.000000</td>\n",
       "      <td>89.000000</td>\n",
       "      <td>78.000000</td>\n",
       "      <td>79.000000</td>\n",
       "      <td>4.000000</td>\n",
       "    </tr>\n",
       "  </tbody>\n",
       "</table>\n",
       "</div>"
      ],
      "text/plain": [
       "       overallScore  professionalScore  culturalScore  teamScore    hrScore\n",
       "count     56.000000          79.000000      79.000000  79.000000  55.000000\n",
       "mean      68.410714          52.797468      44.116456  43.968354   3.200000\n",
       "std        9.042881          35.157659      29.773153  29.771065   1.112222\n",
       "min       45.000000           0.000000       0.000000   0.000000   1.000000\n",
       "25%       65.000000           0.000000       0.000000   0.000000   2.000000\n",
       "50%       70.000000          73.000000      58.200000  57.500000   4.000000\n",
       "75%       75.000000          79.000000      67.500000  67.500000   4.000000\n",
       "max       80.000000          89.000000      78.000000  79.000000   4.000000"
      ]
     },
     "execution_count": 131,
     "metadata": {},
     "output_type": "execute_result"
    }
   ],
   "source": [
    "combined_candidates.describe()"
   ]
  },
  {
   "cell_type": "code",
   "execution_count": 132,
   "metadata": {},
   "outputs": [
    {
     "name": "stdout",
     "output_type": "stream",
     "text": [
      "<class 'pandas.core.frame.DataFrame'>\n",
      "RangeIndex: 83 entries, 0 to 82\n",
      "Data columns (total 6 columns):\n",
      " #   Column             Non-Null Count  Dtype  \n",
      "---  ------             --------------  -----  \n",
      " 0   candidateName      60 non-null     object \n",
      " 1   overallScore       56 non-null     float64\n",
      " 2   professionalScore  79 non-null     float64\n",
      " 3   culturalScore      79 non-null     float64\n",
      " 4   teamScore          79 non-null     float64\n",
      " 5   hrScore            55 non-null     float64\n",
      "dtypes: float64(5), object(1)\n",
      "memory usage: 4.0+ KB\n"
     ]
    }
   ],
   "source": [
    "combined_candidates.info()"
   ]
  },
  {
   "cell_type": "markdown",
   "metadata": {},
   "source": [
    "We can learn that there are some missing values: 60 out of 83 entries have candidate names, which means 23 names are missing. Also, there are some feature (scores) with missing values."
   ]
  },
  {
   "cell_type": "markdown",
   "metadata": {},
   "source": [
    "The 'hrScore' is much more consistent and shows less variability compared to other scores."
   ]
  },
  {
   "cell_type": "markdown",
   "metadata": {},
   "source": [
    "I would like to see the distribution of the overall scores:"
   ]
  },
  {
   "cell_type": "code",
   "execution_count": 133,
   "metadata": {},
   "outputs": [
    {
     "data": {
      "image/png": "[encoded data removed]",
      "text/plain": [
       "<Figure size 1000x600 with 1 Axes>"
      ]
     },
     "metadata": {},
     "output_type": "display_data"
    }
   ],
   "source": [
    "plt.figure(figsize=(10, 6))\n",
    "sns.histplot(combined_candidates['overallScore'], kde=True, bins=20)\n",
    "plt.title('Distribution of Overall Scores')\n",
    "plt.xlabel('Overall Score')\n",
    "plt.ylabel('Frequency')\n",
    "plt.show()"
   ]
  },
  {
   "cell_type": "markdown",
   "metadata": {},
   "source": [
    "We can see that in general there are more overall scores with higher score than with low scores."
   ]
  },
  {
   "cell_type": "code",
   "execution_count": 134,
   "metadata": {},
   "outputs": [
    {
     "data": {
      "image/png": "[encoded data removed]",
      "text/plain": [
       "<Figure size 1000x800 with 2 Axes>"
      ]
     },
     "metadata": {},
     "output_type": "display_data"
    }
   ],
   "source": [
    "# Heatmap of correlation matrix\n",
    "plt.figure(figsize=(10, 8))\n",
    "correlation_matrix = combined_candidates[['overallScore', 'professionalScore', 'culturalScore', 'teamScore', 'hrScore']].corr()\n",
    "sns.heatmap(correlation_matrix, annot=True, cmap='coolwarm', linewidths=0.5)\n",
    "plt.title('Correlation Matrix Heatmap')\n",
    "plt.show()"
   ]
  },
  {
   "cell_type": "markdown",
   "metadata": {},
   "source": [
    "We can learn that the perfect correlation between 'culturalScore' and 'teamScore' suggests that they are identical features. This could mean that these columns might contain exactly the same data, which could be an error in the dataset."
   ]
  },
  {
   "cell_type": "markdown",
   "metadata": {},
   "source": [
    "# Section 2"
   ]
  },
  {
   "cell_type": "markdown",
   "metadata": {},
   "source": [
    "First, I will create a binary classification column where HR scores of 1 or 2 are labeled as \"GO\" and scores of 3 or 4 are labeled as \"NO-GO\"."
   ]
  },
  {
   "cell_type": "code",
   "execution_count": 135,
   "metadata": {},
   "outputs": [],
   "source": [
    "combined_candidates['hrCategory'] = combined_candidates['hrScore'].map({1: 'GO', 2: 'GO', 3: 'NO-GO', 4: 'NO-GO'})"
   ]
  },
  {
   "cell_type": "markdown",
   "metadata": {},
   "source": [
    "I will use various threshold values for the numerical scores to categorize candidates into \"GO\" or \"NO-GO\"."
   ]
  },
  {
   "cell_type": "code",
   "execution_count": 136,
   "metadata": {},
   "outputs": [],
   "source": [
    "thresholds = np.arange(0.0, 101.0, 1.0)"
   ]
  },
  {
   "cell_type": "markdown",
   "metadata": {},
   "source": [
    "I will initialize a list to store performance metrics (accuracy).<br>\n",
    "Accuracy measures the overall correctness of the model by calculating the proportion of correctly classified instances out of the total instances.<br>\n",
    "I only need to evaluate a binary decision (GO vs. NO-GO), so accuracy can provide a clear and direct measure."
   ]
  },
  {
   "cell_type": "code",
   "execution_count": 137,
   "metadata": {},
   "outputs": [],
   "source": [
    "accuracies = []"
   ]
  },
  {
   "cell_type": "code",
   "execution_count": 100,
   "metadata": {},
   "outputs": [],
   "source": [
    "# Ensure 'hrCategory' is a string\n",
    "combined_candidates['hrCategory'] = combined_candidates['hrCategory'].astype(str)\n",
    "\n",
    "# Check for and convert any non-numeric values in 'overallScore'\n",
    "combined_candidates['overallScore'] = pd.to_numeric(combined_candidates['overallScore'], errors='coerce')\n",
    "\n",
    "# Drop rows with NaN values in critical columns\n",
    "combined_candidates = combined_candidates.dropna(subset=['overallScore', 'hrCategory'])"
   ]
  },
  {
   "cell_type": "markdown",
   "metadata": {},
   "source": [
    "For each threshold, I will compute the predicted categories and compare them with the actual HR categories.\n",
    "I wll iterate over each threshold to compute performance metrics."
   ]
  },
  {
   "cell_type": "code",
   "execution_count": 101,
   "metadata": {},
   "outputs": [],
   "source": [
    "for threshold in thresholds:\n",
    "    # Predict categories based on the threshold\n",
    "    combined_candidates['predictedCategory'] = np.where(combined_candidates['overallScore'] >= threshold, 'GO', 'NO-GO')\n",
    "    \n",
    "    # Compute performance metrics\n",
    "    accuracy = accuracy_score(combined_candidates['hrCategory'], combined_candidates['predictedCategory'])\n",
    "    accuracies.append(accuracy)"
   ]
  },
  {
   "cell_type": "markdown",
   "metadata": {},
   "source": [
    "Find the threshold with the maximum accuracy:"
   ]
  },
  {
   "cell_type": "code",
   "execution_count": 102,
   "metadata": {},
   "outputs": [],
   "source": [
    "best_threshold = thresholds[np.argmax(accuracies)]"
   ]
  },
  {
   "cell_type": "code",
   "execution_count": 95,
   "metadata": {},
   "outputs": [
    {
     "data": {
      "image/png": "[encoded data removed]",
      "text/plain": [
       "<Figure size 1000x600 with 1 Axes>"
      ]
     },
     "metadata": {},
     "output_type": "display_data"
    }
   ],
   "source": [
    "# Plot accuracy vs. thresholds\n",
    "plt.figure(figsize=(10, 6))\n",
    "plt.plot(thresholds, accuracies, label='Accuracy', color='blue')\n",
    "plt.axvline(x=best_threshold, color='gray', linestyle='--', label=f'Best Threshold ({best_threshold})')\n",
    "plt.xlabel('Threshold')\n",
    "plt.ylabel('Accuracy')\n",
    "plt.title('Accuracy vs. Threshold')\n",
    "plt.legend()\n",
    "plt.grid(True)\n",
    "plt.show()"
   ]
  },
  {
   "cell_type": "markdown",
   "metadata": {},
   "source": [
    "The best threshold and its accuracy are:"
   ]
  },
  {
   "cell_type": "code",
   "execution_count": 96,
   "metadata": {},
   "outputs": [
    {
     "name": "stdout",
     "output_type": "stream",
     "text": [
      "Best Threshold: 71.0\n",
      "Best Accuracy: 0.6964\n"
     ]
    }
   ],
   "source": [
    "print(f\"Best Threshold: {best_threshold}\")\n",
    "print(f\"Best Accuracy: {accuracies[np.argmax(accuracies)]:.4f}\")"
   ]
  },
  {
   "cell_type": "markdown",
   "metadata": {},
   "source": [
    "# Section 3"
   ]
  },
  {
   "cell_type": "markdown",
   "metadata": {},
   "source": [
    "**Method 1: Simple Averaging**<br>\n",
    "Combine scores by taking the average of the three scores."
   ]
  },
  {
   "cell_type": "code",
   "execution_count": 104,
   "metadata": {},
   "outputs": [],
   "source": [
    "combined_candidates['combinedScore_avg'] = combined_candidates[['professionalScore', 'culturalScore', 'teamScore']].mean(axis=1)"
   ]
  },
  {
   "cell_type": "markdown",
   "metadata": {},
   "source": [
    "**Method 2+3: Max or Min Scores**<br>\n",
    "Use the maximum or minimum of the three scores."
   ]
  },
  {
   "cell_type": "code",
   "execution_count": 105,
   "metadata": {},
   "outputs": [],
   "source": [
    "combined_candidates['combinedScore_max'] = combined_candidates[['professionalScore', 'culturalScore', 'teamScore']].max(axis=1)\n",
    "combined_candidates['combinedScore_min'] = combined_candidates[['professionalScore', 'culturalScore', 'teamScore']].min(axis=1)"
   ]
  },
  {
   "cell_type": "markdown",
   "metadata": {},
   "source": [
    "There is another idea of combining with Weighted Averaging. Assign weights to each score if we believe some scores are more important than others. I cannot do it because I don't have information about the importance of each score, but it was important for me to note that I think this can be a good method."
   ]
  },
  {
   "cell_type": "markdown",
   "metadata": {},
   "source": [
    "For each combined score method, I will find the optimal threshold to classify \"GO\" vs \"NO-GO\":"
   ]
  },
  {
   "cell_type": "code",
   "execution_count": 112,
   "metadata": {},
   "outputs": [],
   "source": [
    "# Define a range of threshold values\n",
    "thresholds_section3 = np.arange(0.0, 101.0, 1.0)\n",
    "\n",
    "# Initialize dictionaries to store results\n",
    "results = {}\n",
    "\n",
    "# List of combined score columns\n",
    "combined_score_columns = ['combinedScore_avg', 'combinedScore_max', 'combinedScore_min']\n",
    "\n",
    "for score_column in combined_score_columns:\n",
    "    accuracies = []\n",
    "    \n",
    "    for threshold in thresholds_section3:\n",
    "        # Predict categories based on the threshold\n",
    "        combined_candidates['predictedCategory'] = np.where(combined_candidates[score_column] >= threshold, 'GO', 'NO-GO')\n",
    "        \n",
    "        # Compute accuracy\n",
    "        accuracy = accuracy_score(combined_candidates['hrCategory'], combined_candidates['predictedCategory'])\n",
    "        accuracies.append(accuracy)\n",
    "    \n",
    "    # Find the threshold with the maximum accuracy\n",
    "    best_threshold = thresholds[np.argmax(accuracies)]\n",
    "    best_accuracy = accuracies[np.argmax(accuracies)]\n",
    "    \n",
    "    # Store results\n",
    "    results[score_column] = {\n",
    "        'best_threshold': best_threshold,\n",
    "        'best_accuracy': best_accuracy\n",
    "    }"
   ]
  },
  {
   "cell_type": "code",
   "execution_count": 113,
   "metadata": {},
   "outputs": [
    {
     "data": {
      "image/png": "[encoded data removed]",
      "text/plain": [
       "<Figure size 1000x600 with 1 Axes>"
      ]
     },
     "metadata": {},
     "output_type": "display_data"
    }
   ],
   "source": [
    "    # Plot accuracy vs. thresholds\n",
    "    plt.figure(figsize=(10, 6))\n",
    "    plt.plot(thresholds, accuracies, label=f'Accuracy for {score_column}', color='blue')\n",
    "    plt.axvline(x=best_threshold, color='gray', linestyle='--', label=f'Best Threshold ({best_threshold})')\n",
    "    plt.xlabel('Threshold')\n",
    "    plt.ylabel('Accuracy')\n",
    "    plt.title(f'Accuracy vs. Threshold for {score_column}')\n",
    "    plt.legend()\n",
    "    plt.grid(True)\n",
    "    plt.show()"
   ]
  },
  {
   "cell_type": "code",
   "execution_count": 114,
   "metadata": {},
   "outputs": [
    {
     "name": "stdout",
     "output_type": "stream",
     "text": [
      "Results for combinedScore_avg:\n",
      "Best Threshold: 77.0\n",
      "Best Accuracy: 0.6964\n",
      "\n",
      "Results for combinedScore_max:\n",
      "Best Threshold: 82.0\n",
      "Best Accuracy: 0.6964\n",
      "\n",
      "Results for combinedScore_min:\n",
      "Best Threshold: 73.0\n",
      "Best Accuracy: 0.6786\n",
      "\n"
     ]
    }
   ],
   "source": [
    "# Print the results\n",
    "for score_column, metrics in results.items():\n",
    "    print(f\"Results for {score_column}:\")\n",
    "    print(f\"Best Threshold: {metrics['best_threshold']}\")\n",
    "    print(f\"Best Accuracy: {metrics['best_accuracy']:.4f}\")\n",
    "    print()"
   ]
  },
  {
   "cell_type": "markdown",
   "metadata": {},
   "source": [
    "As the result shows, the methods that gave the best accuracy are  max score and avg."
   ]
  }
 ],
 "metadata": {
  "kernelspec": {
   "display_name": "lab",
   "language": "python",
   "name": "python3"
  },
  "language_info": {
   "codemirror_mode": {
    "name": "ipython",
    "version": 3
   },
   "file_extension": ".py",
   "mimetype": "text/x-python",
   "name": "python",
   "nbconvert_exporter": "python",
   "pygments_lexer": "ipython3",
   "version": "3.12.4"
  }
 },
 "nbformat": 4,
 "nbformat_minor": 2
}
